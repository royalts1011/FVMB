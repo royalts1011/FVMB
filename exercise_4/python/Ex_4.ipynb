{
 "cells": [
  {
   "cell_type": "code",
   "execution_count": 6,
   "metadata": {
    "collapsed": true
   },
   "outputs": [],
   "source": [
    "import torch\n",
    "\n",
    "data = torch.load('fvmbv_sparse_keypoints.pth')\n",
    "kpts_fixed = data['kpts_fixed']\n",
    "kpts_moving = data['kpts_moving']\n",
    "gt_displacements = data['gt_displacements']\n",
    "del data\n",
    "\n",
    "# Im Folgeden benötigte Variablen initialisieren.\n",
    "# P = Points, D = Dimensions, kC = Amount of Candidates, E = Number of Edges for each Point\n",
    "kC = 256\n",
    "P,D = kpts_fixed.shape\n",
    "E = 9"
   ]
  },
  {
   "cell_type": "code",
   "execution_count": 7,
   "outputs": [
    {
     "ename": "KeyboardInterrupt",
     "evalue": "",
     "output_type": "error",
     "traceback": [
      "\u001B[0;31m---------------------------------------------------------------------------\u001B[0m",
      "\u001B[0;31mKeyboardInterrupt\u001B[0m                         Traceback (most recent call last)",
      "Input \u001B[0;32mIn [7]\u001B[0m, in \u001B[0;36m<module>\u001B[0;34m\u001B[0m\n\u001B[1;32m     52\u001B[0m \u001B[38;5;66;03m### Aufgabe1 ###\u001B[39;00m\n\u001B[1;32m     53\u001B[0m candidates \u001B[38;5;241m=\u001B[39m find_candidates()\n\u001B[0;32m---> 54\u001B[0m edges \u001B[38;5;241m=\u001B[39m \u001B[43mbuild_graph\u001B[49m()\n\u001B[1;32m     55\u001B[0m \u001B[38;5;28mprint\u001B[39m(\u001B[38;5;124m'\u001B[39m\u001B[38;5;124mAnzahl Kanten : \u001B[39m\u001B[38;5;124m'\u001B[39m, edges\u001B[38;5;241m.\u001B[39msize()[\u001B[38;5;241m0\u001B[39m])\n\u001B[1;32m     56\u001B[0m \u001B[38;5;28mprint\u001B[39m(\u001B[38;5;124m'\u001B[39m\u001B[38;5;124mAnzahl Kandidaten pro Knoten (shape) : \u001B[39m\u001B[38;5;124m'\u001B[39m, candidates\u001B[38;5;241m.\u001B[39msize()[\u001B[38;5;241m0\u001B[39m],\u001B[38;5;124m'\u001B[39m\u001B[38;5;124mx\u001B[39m\u001B[38;5;124m'\u001B[39m,candidates\u001B[38;5;241m.\u001B[39msize()[\u001B[38;5;241m1\u001B[39m],\u001B[38;5;124m'\u001B[39m\u001B[38;5;124mx\u001B[39m\u001B[38;5;124m'\u001B[39m,candidates\u001B[38;5;241m.\u001B[39msize()[\u001B[38;5;241m2\u001B[39m])\n",
      "Input \u001B[0;32mIn [7]\u001B[0m, in \u001B[0;36m<module>\u001B[0;34m\u001B[0m\n\u001B[1;32m     52\u001B[0m \u001B[38;5;66;03m### Aufgabe1 ###\u001B[39;00m\n\u001B[1;32m     53\u001B[0m candidates \u001B[38;5;241m=\u001B[39m find_candidates()\n\u001B[0;32m---> 54\u001B[0m edges \u001B[38;5;241m=\u001B[39m \u001B[43mbuild_graph\u001B[49m()\n\u001B[1;32m     55\u001B[0m \u001B[38;5;28mprint\u001B[39m(\u001B[38;5;124m'\u001B[39m\u001B[38;5;124mAnzahl Kanten : \u001B[39m\u001B[38;5;124m'\u001B[39m, edges\u001B[38;5;241m.\u001B[39msize()[\u001B[38;5;241m0\u001B[39m])\n\u001B[1;32m     56\u001B[0m \u001B[38;5;28mprint\u001B[39m(\u001B[38;5;124m'\u001B[39m\u001B[38;5;124mAnzahl Kandidaten pro Knoten (shape) : \u001B[39m\u001B[38;5;124m'\u001B[39m, candidates\u001B[38;5;241m.\u001B[39msize()[\u001B[38;5;241m0\u001B[39m],\u001B[38;5;124m'\u001B[39m\u001B[38;5;124mx\u001B[39m\u001B[38;5;124m'\u001B[39m,candidates\u001B[38;5;241m.\u001B[39msize()[\u001B[38;5;241m1\u001B[39m],\u001B[38;5;124m'\u001B[39m\u001B[38;5;124mx\u001B[39m\u001B[38;5;124m'\u001B[39m,candidates\u001B[38;5;241m.\u001B[39msize()[\u001B[38;5;241m2\u001B[39m])\n",
      "File \u001B[0;32m_pydevd_bundle/pydevd_cython_darwin_39_64.pyx:1180\u001B[0m, in \u001B[0;36m_pydevd_bundle.pydevd_cython_darwin_39_64.SafeCallWrapper.__call__\u001B[0;34m()\u001B[0m\n",
      "File \u001B[0;32m_pydevd_bundle/pydevd_cython_darwin_39_64.pyx:621\u001B[0m, in \u001B[0;36m_pydevd_bundle.pydevd_cython_darwin_39_64.PyDBFrame.trace_dispatch\u001B[0;34m()\u001B[0m\n",
      "File \u001B[0;32m_pydevd_bundle/pydevd_cython_darwin_39_64.pyx:930\u001B[0m, in \u001B[0;36m_pydevd_bundle.pydevd_cython_darwin_39_64.PyDBFrame.trace_dispatch\u001B[0;34m()\u001B[0m\n",
      "File \u001B[0;32m_pydevd_bundle/pydevd_cython_darwin_39_64.pyx:921\u001B[0m, in \u001B[0;36m_pydevd_bundle.pydevd_cython_darwin_39_64.PyDBFrame.trace_dispatch\u001B[0;34m()\u001B[0m\n",
      "File \u001B[0;32m_pydevd_bundle/pydevd_cython_darwin_39_64.pyx:318\u001B[0m, in \u001B[0;36m_pydevd_bundle.pydevd_cython_darwin_39_64.PyDBFrame.do_wait_suspend\u001B[0;34m()\u001B[0m\n",
      "File \u001B[0;32m/Applications/PyCharm.app/Contents/plugins/python/helpers/pydev/pydevd.py:1147\u001B[0m, in \u001B[0;36mPyDB.do_wait_suspend\u001B[0;34m(self, thread, frame, event, arg, send_suspend_message, is_unhandled_exception)\u001B[0m\n\u001B[1;32m   1144\u001B[0m         from_this_thread\u001B[38;5;241m.\u001B[39mappend(frame_id)\n\u001B[1;32m   1146\u001B[0m \u001B[38;5;28;01mwith\u001B[39;00m \u001B[38;5;28mself\u001B[39m\u001B[38;5;241m.\u001B[39m_threads_suspended_single_notification\u001B[38;5;241m.\u001B[39mnotify_thread_suspended(thread_id, stop_reason):\n\u001B[0;32m-> 1147\u001B[0m     \u001B[38;5;28;43mself\u001B[39;49m\u001B[38;5;241;43m.\u001B[39;49m\u001B[43m_do_wait_suspend\u001B[49m\u001B[43m(\u001B[49m\u001B[43mthread\u001B[49m\u001B[43m,\u001B[49m\u001B[43m \u001B[49m\u001B[43mframe\u001B[49m\u001B[43m,\u001B[49m\u001B[43m \u001B[49m\u001B[43mevent\u001B[49m\u001B[43m,\u001B[49m\u001B[43m \u001B[49m\u001B[43marg\u001B[49m\u001B[43m,\u001B[49m\u001B[43m \u001B[49m\u001B[43msuspend_type\u001B[49m\u001B[43m,\u001B[49m\u001B[43m \u001B[49m\u001B[43mfrom_this_thread\u001B[49m\u001B[43m)\u001B[49m\n",
      "File \u001B[0;32m/Applications/PyCharm.app/Contents/plugins/python/helpers/pydev/pydevd.py:1162\u001B[0m, in \u001B[0;36mPyDB._do_wait_suspend\u001B[0;34m(self, thread, frame, event, arg, suspend_type, from_this_thread)\u001B[0m\n\u001B[1;32m   1159\u001B[0m             \u001B[38;5;28mself\u001B[39m\u001B[38;5;241m.\u001B[39m_call_mpl_hook()\n\u001B[1;32m   1161\u001B[0m         \u001B[38;5;28mself\u001B[39m\u001B[38;5;241m.\u001B[39mprocess_internal_commands()\n\u001B[0;32m-> 1162\u001B[0m         \u001B[43mtime\u001B[49m\u001B[38;5;241;43m.\u001B[39;49m\u001B[43msleep\u001B[49m\u001B[43m(\u001B[49m\u001B[38;5;241;43m0.01\u001B[39;49m\u001B[43m)\u001B[49m\n\u001B[1;32m   1164\u001B[0m \u001B[38;5;28mself\u001B[39m\u001B[38;5;241m.\u001B[39mcancel_async_evaluation(get_current_thread_id(thread), \u001B[38;5;28mstr\u001B[39m(\u001B[38;5;28mid\u001B[39m(frame)))\n\u001B[1;32m   1166\u001B[0m \u001B[38;5;66;03m# process any stepping instructions\u001B[39;00m\n",
      "\u001B[0;31mKeyboardInterrupt\u001B[0m: "
     ]
    }
   ],
   "source": [
    "'''\n",
    "Funktion die am ende benötigt wird um das Displacement zu berechnen.\n",
    "Gegeben!\n",
    "'''\n",
    "\n",
    "def target_registration_error(my_disp_est,gt_displacements):\n",
    "  diff = (my_disp_est*torch.Tensor([223/2,159/2,223/2]).view(-1,3)-gt_displacements*torch.Tensor([223/2,159/2,223/2]).view(-1,3))\n",
    "  return torch.sqrt(diff.pow(2).sum(1)).mean()\n",
    "\n",
    "\n",
    "'''\n",
    "Funktion baut für die gegebene Keypoints eine Matrix mit den kC Kandidaten für jeden der kpts_fixed.\n",
    "Rückgabe ist das relative displacement zwischen kpts_fixed und kpts_moving im Ausgangszustand.\n",
    "'''\n",
    "def find_candidates():\n",
    "    # bauen M (kpt_fixed) x N (kpts_moving) matrix mit Pairwise Distance\n",
    "    f_m_dist = torch.cdist(kpts_fixed, kpts_moving)\n",
    "    # Index der jeweils 256 kandidaten für die 2048 bestimmen\n",
    "    candidates_idx = torch.topk(input=f_m_dist,k=kC, dim=1,largest=False, sorted=True)[1]\n",
    "    candidates_values = torch.gather(input=kpts_moving.view(-1,1,3).repeat(1,kC,1),dim=0,index=candidates_idx.view(-1,kC,1).repeat(1,1,D))\n",
    "    return candidates_values - kpts_fixed.unsqueeze(1) # --> Realtives Displacment Berechnen\n",
    "\n",
    "'''\n",
    "Diese Methode baut aus den kpts_fixed einen Nachbarschaftsgraphen mit #E Nachbarn\n",
    "Rückgabe ist hier eine Kantenliste\n",
    "'''\n",
    "def build_graph():\n",
    "    # Hier alle Pairwise Distanzen bestimmen\n",
    "    f_f_dis = torch.cdist(kpts_fixed,kpts_fixed)\n",
    "\n",
    "    # Top 10 Werte nehmen und uns den 10ten anschauen als Schwellwert\n",
    "    knn_value,_= torch.topk(input=f_f_dis,k=E+1,dim=1,largest=False, sorted=True)\n",
    "    knn_highest_value = knn_value[:,E].unsqueeze(1)\n",
    "\n",
    "\n",
    "    # Filtern der Distanzmatrix  pro Zeile nach Werten, die kleiner sind als der highest_value\n",
    "    # IDEE_1 um auf 19020 zu kommen --> Threshold für die die Differenz\n",
    "    # knn_mask = (f_f_dis < knn_highest_value+0.000896).int() - torch.eye(P,P)\n",
    "\n",
    "    # IDEE_2 Gegenläufige Kanten mit rein nehmen. Angenommmen Kante 0 --> 1  aber keine Kante 1 --> 0,\n",
    "    # da 1 andere 9 nächste Nachbarn haben kann. Dann nehmen wir die Kante 1 --> 0 trotzdem mit auf,\n",
    "    # weil wir ja keinen gerichteten Graphen haben und die kante sogesehen eh existiert.\n",
    "    knn_mask =  (f_f_dis < knn_highest_value).int()\n",
    "    knn_mask_regular = knn_mask - torch.eye(P,P)\n",
    "    knn_mask_tranposed = knn_mask.transpose(0,1) - torch.eye(P,P)\n",
    "    knn_mask = knn_mask_regular + knn_mask_tranposed\n",
    "\n",
    "    # mit non zero alle Indizes als Tupel speichern, bei denen eine Wert != 0 drin steht.\n",
    "    return torch.nonzero(knn_mask)\n",
    "\n",
    "\n",
    "### Aufgabe1 ###\n",
    "candidates = find_candidates()\n",
    "edges = build_graph()\n",
    "print('Anzahl Kanten : ', edges.size()[0])\n",
    "print('Anzahl Kandidaten pro Knoten (shape) : ', candidates.size()[0],'x',candidates.size()[1],'x',candidates.size()[2])"
   ],
   "metadata": {
    "collapsed": false,
    "pycharm": {
     "name": "#%%\n"
    }
   }
  },
  {
   "cell_type": "code",
   "execution_count": 3,
   "outputs": [
    {
     "name": "stdout",
     "output_type": "stream",
     "text": [
      "Epoche:  0      Aktuelles Displacement:  13.523027420043945 mm\n",
      "Epoche:  1      Aktuelles Displacement:  8.5609130859375 mm\n",
      "Epoche:  2      Aktuelles Displacement:  1.2312085628509521 mm\n",
      "Epoche:  3      Aktuelles Displacement:  0.8313611149787903 mm\n",
      "Epoche:  4      Aktuelles Displacement:  0.6450588703155518 mm\n",
      "Epoche:  5      Aktuelles Displacement:  0.502339243888855 mm\n",
      "Epoche:  6      Aktuelles Displacement:  0.4164634943008423 mm\n"
     ]
    }
   ],
   "source": [
    "### Aufgabe 2 ###\n",
    "epochs = 7 # Wie viele Runden soll der Algorithmus laufen\n",
    "\n",
    "\n",
    "# Speichert die Nachrichten pro Knoten\n",
    "tmp_msg = torch.zeros(P, kC) # --> shape (2048x256)\n",
    "# Nachrichten für jede Kante. Jede Nachricht hat 256 Kandidaten (0...255) an jeder Kante\n",
    "msg = torch.zeros(len(edges), kC) # --> shape (#edgesx256)\n",
    "# Speichert später die gesammelten Nachrichten aller Kanten\n",
    "passed_message = torch.zeros(len(edges), kC) # --> shape (#edgesx256)\n",
    "\n",
    "\n",
    "for epoch in range(epochs):\n",
    "    # Betrachten hier jede Edge einzeln und berechnen den Message Term, da nicht parallelisiert.\n",
    "    for edge_idx, edge in enumerate(edges):\n",
    "\n",
    "        # Kante von p nach q\n",
    "        p = edge[0]\n",
    "        q = edge[1]\n",
    "\n",
    "        # Zugehörige Kandidaten von p und q\n",
    "        u_p = candidates[p]\n",
    "        u_q = candidates[q]\n",
    "\n",
    "        # Regularisierungsterm bauen als Punktweise Distanzen der Candidaten\n",
    "        R = (u_p.unsqueeze(0) - u_q.unsqueeze(1)).pow(2).sum(2)\n",
    "\n",
    "        # Berechnung der neuen Nachricht für jede Kante\n",
    "        # Formel: Summe der Nachrichten bis zu Knoten P + 1.5 fachen Regularisierungsterm\n",
    "        msg[edge_idx] = torch.min(passed_message[edge_idx].unsqueeze(0) + 1.5 * R, dim=1).values\n",
    "\n",
    "\n",
    "    # Da wir jetzt alle Nachrichten entlang des Graphen berechnet haben, müssen wir nun unser tmp_msg updaten\n",
    "    # Wir geben hier also die Nachrichten an die Nachbarknoten weiter.\n",
    "    tmp_msg.zero_()\n",
    "    tmp_msg.scatter_add_(dim=0,index=edges[:,1].view(-1,1).repeat(1,kC),src=msg)\n",
    "\n",
    "    # Die Nachrichten in jedem Knoten werden hier noch durch den Graph gereicht, damit wir später\n",
    "    # an jeder Kante durch zugriff auf den gleichen index in passed_message, die Summe erhalten.\n",
    "    passed_message = torch.gather(input=tmp_msg,dim=0, index=edges[:,0].view(-1,1).repeat(1,kC))\n",
    "\n",
    "    # berechnung des aktuellen Displaxements\n",
    "    disp_pred = (torch.softmax(-50 * tmp_msg, dim=1).unsqueeze(-1) * candidates).sum(1)\n",
    "\n",
    "    print('Epoche: ', epoch,'     Aktuelles Displacement: ', target_registration_error(disp_pred.squeeze(), gt_displacements).item(), 'mm')"
   ],
   "metadata": {
    "collapsed": false,
    "pycharm": {
     "name": "#%%\n"
    }
   }
  },
  {
   "cell_type": "code",
   "execution_count": 3,
   "outputs": [],
   "source": [],
   "metadata": {
    "collapsed": false,
    "pycharm": {
     "name": "#%%\n"
    }
   }
  }
 ],
 "metadata": {
  "kernelspec": {
   "display_name": "Python 3",
   "language": "python",
   "name": "python3"
  },
  "language_info": {
   "codemirror_mode": {
    "name": "ipython",
    "version": 2
   },
   "file_extension": ".py",
   "mimetype": "text/x-python",
   "name": "python",
   "nbconvert_exporter": "python",
   "pygments_lexer": "ipython2",
   "version": "2.7.6"
  }
 },
 "nbformat": 4,
 "nbformat_minor": 0
}