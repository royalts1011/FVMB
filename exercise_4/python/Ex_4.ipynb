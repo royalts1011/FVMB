{
 "cells": [
  {
   "cell_type": "code",
   "execution_count": 18,
   "metadata": {
    "collapsed": true
   },
   "outputs": [],
   "source": [
    "import torch\n",
    "\n",
    "data = torch.load('fvmbv_sparse_keypoints.pth')\n",
    "kpts_fixed = data['kpts_fixed']\n",
    "kpts_moving = data['kpts_moving']\n",
    "gt_displacements = data['gt_displacements']\n",
    "del data\n",
    "\n",
    "# Im Folgeden benötigte Variablen initialisieren.\n",
    "# P = Points, D = Dimensions, kC = Amount of Candidates, E = Number of Edges for each Point\n",
    "kC = 256\n",
    "P,D = kpts_fixed.shape\n",
    "E = 9"
   ]
  },
  {
   "cell_type": "code",
   "execution_count": 19,
   "outputs": [
    {
     "name": "stdout",
     "output_type": "stream",
     "text": [
      "Anzahl Kanten :  19028\n",
      "Anzahl Kandidaten pro Knoten (shape) :  2048 x 256 x 3\n"
     ]
    }
   ],
   "source": [
    "'''\n",
    "Funktion die am ende benötigt wird um das Displacement zu berechnen.\n",
    "Gegeben!\n",
    "'''\n",
    "\n",
    "def target_registration_error(my_disp_est,gt_displacements):\n",
    "  diff = (my_disp_est*torch.Tensor([223/2,159/2,223/2]).view(-1,3)-gt_displacements*torch.Tensor([223/2,159/2,223/2]).view(-1,3))\n",
    "  return torch.sqrt(diff.pow(2).sum(1)).mean()\n",
    "\n",
    "\n",
    "'''\n",
    "Funktion baut für die gegebene Keypoints eine Matrix mit den kC Kandidaten für jeden der kpts_fixed.\n",
    "Rückgabe ist das relative displacement zwischen kpts_fixed und kpts_moving im Ausgangszustand.\n",
    "'''\n",
    "def find_candidates():\n",
    "    # bauen M (kpt_fixed) x N (kpts_moving) matrix mit Pairwise Distance\n",
    "    f_m_dist = torch.cdist(kpts_fixed, kpts_moving)\n",
    "    # Index der jeweils 256 kandidaten für die 2048 bestimmen\n",
    "    candidates_idx = torch.topk(input=f_m_dist,k=kC, dim=1,largest=False, sorted=True)[1]\n",
    "    candidates_values = torch.gather(input=kpts_moving.view(-1,1,3).repeat(1,kC,1),dim=0,index=candidates_idx.view(-1,kC,1).repeat(1,1,D))\n",
    "    return candidates_values - kpts_fixed.unsqueeze(1) # --> Realtives Displacment Berechnen\n",
    "\n",
    "'''\n",
    "Diese Methode baut aus den kpts_fixed einen Nachbarschaftsgraphen mit #E Nachbarn\n",
    "Rückgabe ist hier eine Kantenliste\n",
    "'''\n",
    "def build_graph():\n",
    "    # Hier alle Pairwise Distanzen bestimmen\n",
    "    f_f_dis = torch.cdist(kpts_fixed,kpts_fixed)\n",
    "\n",
    "    # Top 10 Werte nehmen und uns den 10ten anschauen als Schwellwert\n",
    "    knn_value,_= torch.topk(input=f_f_dis,k=E+1,dim=1,largest=False, sorted=True)\n",
    "    knn_highest_value = knn_value[:,E].unsqueeze(1)\n",
    "\n",
    "\n",
    "    # Filtern der Distanzmatrix  pro Zeile nach Werten, die kleiner sind als der highest_value\n",
    "    # IDEE_1 um auf 19020 zu kommen --> Threshold für die die Differenz\n",
    "    # knn_mask = (f_f_dis < knn_highest_value+0.000896).int() - torch.eye(P,P)\n",
    "\n",
    "    # IDEE_2 Gegenläufige Kanten mit rein nehmen. Angenommmen Kante 0 --> 1  aber keine Kante 1 --> 0,\n",
    "    # da 1 andere 9 nächste Nachbarn haben kann. Dann nehmen wir die Kante 1 --> 0 trotzdem mit auf,\n",
    "    # weil wir ja keinen gerichteten Graphen haben und die kante sogesehen eh existiert.\n",
    "    knn_mask =  (f_f_dis < knn_highest_value).int()\n",
    "    knn_mask_regular = knn_mask - torch.eye(P,P)\n",
    "    knn_mask_tranposed = knn_mask.transpose(0,1) - torch.eye(P,P)\n",
    "    knn_mask = knn_mask_regular + knn_mask_tranposed\n",
    "\n",
    "    # mit non zero alle Indizes als Tupel speichern, bei denen eine Wert != 0 drin steht.\n",
    "    return torch.nonzero(knn_mask)\n",
    "\n",
    "\n",
    "### Aufgabe1 ###\n",
    "candidates = find_candidates()\n",
    "edges = build_graph()\n",
    "print('Anzahl Kanten : ', edges.size()[0])\n",
    "print('Anzahl Kandidaten pro Knoten (shape) : ', candidates.size()[0],'x',candidates.size()[1],'x',candidates.size()[2])"
   ],
   "metadata": {
    "collapsed": false,
    "pycharm": {
     "name": "#%%\n"
    }
   }
  },
  {
   "cell_type": "code",
   "execution_count": null,
   "outputs": [
    {
     "name": "stdout",
     "output_type": "stream",
     "text": [
      "Epoche:  0      Aktuelles Displacement:  13.523027420043945 mm\n",
      "Epoche:  1      Aktuelles Displacement:  8.5609130859375 mm\n",
      "Epoche:  2      Aktuelles Displacement:  1.2312085628509521 mm\n",
      "Epoche:  3      Aktuelles Displacement:  0.8313611149787903 mm\n"
     ]
    }
   ],
   "source": [
    "### Aufgabe 2 ###\n",
    "epochs = 7 # Wie viele Runden soll der Algorithmus laufen\n",
    "\n",
    "\n",
    "# Speichert die Nachrichten pro Knoten\n",
    "tmp_msg = torch.zeros(P, kC) # --> shape (2048x256)\n",
    "# Nachrichten für jede Kante. Jede Nachricht hat 256 Kandidaten (0...255) an jeder Kante\n",
    "msg = torch.zeros(len(edges), kC) # --> shape (#edgesx256)\n",
    "# Speichert später die gesammelten Nachrichten aller Kanten\n",
    "passed_message = torch.zeros(len(edges), kC) # --> shape (#edgesx256)\n",
    "\n",
    "\n",
    "for epoch in range(epochs):\n",
    "    # Betrachten hier jede Edge einzeln und berechnen den Message Term, da nicht parallelisiert.\n",
    "    for edge_idx, edge in enumerate(edges):\n",
    "\n",
    "        # Kante von p nach q\n",
    "        p = edge[0]\n",
    "        q = edge[1]\n",
    "\n",
    "        # Zugehörige Kandidaten von p und q\n",
    "        u_p = candidates[p]\n",
    "        u_q = candidates[q]\n",
    "\n",
    "        # Regularisierungsterm bauen als Punktweise Distanzen der Candidaten\n",
    "        R = (u_p.unsqueeze(0) - u_q.unsqueeze(1)).pow(2).sum(2)\n",
    "\n",
    "        # Berechnung der neuen Nachricht für jede Kante\n",
    "        # Formel: Summe der Nachrichten bis zu Knoten P + 1.5 fachen Regularisierungsterm\n",
    "        msg[edge_idx] = torch.min(passed_message[edge_idx].unsqueeze(0) + 1.5 * R, dim=1).values\n",
    "\n",
    "\n",
    "    # Da wir jetzt alle Nachrichten entlang des Graphen berechnet haben, müssen wir nun unser tmp_msg updaten\n",
    "    # Wir geben hier also die Nachrichten an die Nachbarknoten weiter.\n",
    "    tmp_msg.zero_()\n",
    "    tmp_msg.scatter_add_(dim=0,index=edges[:,1].view(-1,1).repeat(1,kC),src=msg)\n",
    "\n",
    "    # Die Nachrichten in jedem Knoten werden hier noch durch den Graph gereicht, damit wir später\n",
    "    # an jeder Kante durch zugriff auf den gleichen index in passed_message, die Summe erhalten.\n",
    "    passed_message = torch.gather(input=tmp_msg,dim=0, index=edges[:,0].view(-1,1).repeat(1,kC))\n",
    "\n",
    "    # berechnung des aktuellen Displaxements\n",
    "    disp_pred = (torch.softmax(-50 * tmp_msg, dim=1).unsqueeze(-1) * candidates).sum(1)\n",
    "\n",
    "    print('Epoche: ', epoch,'     Aktuelles Displacement: ', target_registration_error(disp_pred.squeeze(), gt_displacements).item(), 'mm')"
   ],
   "metadata": {
    "collapsed": false,
    "pycharm": {
     "name": "#%%\n",
     "is_executing": true
    }
   }
  }
 ],
 "metadata": {
  "kernelspec": {
   "display_name": "Python 3",
   "language": "python",
   "name": "python3"
  },
  "language_info": {
   "codemirror_mode": {
    "name": "ipython",
    "version": 2
   },
   "file_extension": ".py",
   "mimetype": "text/x-python",
   "name": "python",
   "nbconvert_exporter": "python",
   "pygments_lexer": "ipython2",
   "version": "2.7.6"
  }
 },
 "nbformat": 4,
 "nbformat_minor": 0
}